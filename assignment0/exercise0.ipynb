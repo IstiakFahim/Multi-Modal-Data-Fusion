{
 "cells": [
  {
   "cell_type": "markdown",
   "metadata": {},
   "source": [
    "Before you turn this problem in, make sure everything runs as expected. First, **restart the kernel** (in the menubar, select Kernel$\\rightarrow$Restart) and then **run all cells** (in the menubar, select Cell$\\rightarrow$Run All).\n",
    "\n",
    "If a variable is given to you, give your answer to that variable. In case of multiple choice questions, answer to the given variable. Make sure your variable has a **string value** and it contains only the letter of your choice. For example if you think that choice b is the correct choice, and the given variable is answer, your answer should look like this:\n",
    "\n",
    "answer = 'b'\n",
    "\n",
    "or \n",
    "\n",
    "answer = 'B'\n",
    "\n",
    "If you need to read a file for a task, datafiles, such as .csv or .txt files are found in data subfolder. This can be accessed using data/filename.extension. In case of image, they are found in subfolder images. \n",
    "\n",
    "Make sure you fill in any place that says `YOUR CODE HERE` or \"YOUR ANSWER HERE\", as well as your name below:"
   ]
  },
  {
   "cell_type": "code",
   "execution_count": null,
   "metadata": {},
   "outputs": [],
   "source": [
    "NAME = \"\""
   ]
  },
  {
   "cell_type": "markdown",
   "metadata": {},
   "source": [
    "---"
   ]
  },
  {
   "cell_type": "markdown",
   "metadata": {
    "deletable": false,
    "editable": false,
    "nbgrader": {
     "cell_type": "markdown",
     "checksum": "3396081c72591739a6aea84bb31c680c",
     "grade": false,
     "grade_id": "cell-ba6e7e00a2b238aa",
     "locked": true,
     "schema_version": 3,
     "solution": false,
     "task": false
    }
   },
   "source": [
    "# Multi-Modal Data Fusion - Exercise 0: Introduction to Python tools"
   ]
  },
  {
   "cell_type": "markdown",
   "metadata": {
    "deletable": false,
    "editable": false,
    "nbgrader": {
     "cell_type": "markdown",
     "checksum": "40548dbed066dabdf7a7f12f2f4962cd",
     "grade": false,
     "grade_id": "cell-1ecc4afcaac5c18f",
     "locked": true,
     "schema_version": 3,
     "solution": false,
     "task": false
    }
   },
   "source": [
    "\n",
    "\n",
    "## Learning goals\n",
    "\n",
    "After this exercise, you should\n",
    "\n",
    "- be familiar with Jupyter notebook environment\n",
    "- have a working knowledge of Python\n",
    "- be able to perform simple data science tasks with Python modules\n",
    "- be able to read data from files\n",
    "- be able to plot data\n",
    "\n",
    "## Relevant lecture\n",
    "\n",
    "Lecture 1 (partly).\n",
    "\n",
    "## Relevant sections in course book\n",
    "\n",
    "None.\n",
    "\n",
    "## Additional material\n",
    "\n",
    "This course assumes basic understanding of Python programming language. If you are not  familiar with Python yet make sure to visit a Python tutorial, for example at\n",
    "https://www.tutorialspoint.com/python/python_basic_syntax.htm\n",
    "\n",
    "\n",
    "Pay attention to following aspects of Python:\n",
    "<ul>\n",
    "<li>code indentation to indicate scope</li>\n",
    "<li>assignment operator</li>\n",
    "<li>string variables</li>\n",
    "    <li>lists (tuples, dictionaries)</li>\n",
    "    <li>data type conversions (e.g. integer to string)</li>\n",
    "    <li>operators (arithmetic, logical, comparison, assignment)</li>\n",
    "    <li>if statements</li>\n",
    "<li>for statements</li>\n",
    "<li>user defined functions</li>\n",
    "</ul>\n",
    "\n",
    "Below you wil find some basic code examples of  many of these Python constructs. You should Run (Execute, Shift+Enter) them all and understand their meaning. You are encouraged to change some parameter values and see how they effect the computations."
   ]
  },
  {
   "cell_type": "code",
   "execution_count": null,
   "metadata": {},
   "outputs": [],
   "source": [
    "x = 2\n",
    "y = 3.14159\n",
    "z = x*y\n",
    "w = 2**3 # exponentiation\n",
    "print(z,w)"
   ]
  },
  {
   "cell_type": "markdown",
   "metadata": {
    "deletable": false,
    "editable": false,
    "nbgrader": {
     "cell_type": "markdown",
     "checksum": "69775e44c3d62e9a52b22f6c9954c034",
     "grade": false,
     "grade_id": "cell-5912ce1952b45992",
     "locked": true,
     "schema_version": 3,
     "solution": false,
     "task": false
    }
   },
   "source": [
    "List is a collection of data values and it is created with square brackets."
   ]
  },
  {
   "cell_type": "code",
   "execution_count": null,
   "metadata": {},
   "outputs": [],
   "source": [
    "A = [1,2,55,66,22]\n",
    "print(A)\n",
    "print(A[0]) # indexing is zero based!!!!!\n",
    "print(A[4])\n",
    "print(A[5]) # index out of range here"
   ]
  },
  {
   "cell_type": "code",
   "execution_count": null,
   "metadata": {},
   "outputs": [],
   "source": [
    "str = \"my long text string goes here\"\n",
    "print(len(str))\n",
    "print(str[0]) # again, indexing is zero based"
   ]
  },
  {
   "cell_type": "markdown",
   "metadata": {
    "deletable": false,
    "editable": false,
    "nbgrader": {
     "cell_type": "markdown",
     "checksum": "dcfa167d4cb9b6851c61deeb9e965f88",
     "grade": false,
     "grade_id": "cell-191127ec8e6caa11",
     "locked": true,
     "schema_version": 3,
     "solution": false,
     "task": false
    }
   },
   "source": [
    "Ranges of values can be created easily with the range() function. Examples:"
   ]
  },
  {
   "cell_type": "code",
   "execution_count": null,
   "metadata": {},
   "outputs": [],
   "source": [
    "a = range(1,5,2)\n",
    "print(a)\n",
    "a[0]\n",
    "b = range(9)\n",
    "b[0]\n",
    "b[2] # 9 is out of scope"
   ]
  },
  {
   "cell_type": "code",
   "execution_count": null,
   "metadata": {},
   "outputs": [],
   "source": [
    "for i in range(7): # pay attention to first and last element!!!\n",
    "    print(i) # pay attention to indentation"
   ]
  },
  {
   "cell_type": "code",
   "execution_count": null,
   "metadata": {},
   "outputs": [],
   "source": [
    "for i in range(0,7,2):\n",
    "    print(i)"
   ]
  },
  {
   "cell_type": "code",
   "execution_count": null,
   "metadata": {},
   "outputs": [],
   "source": [
    "for word in [\"multi\",\"modal\",\"data\",\"fusion\"]:\n",
    "    print(word)"
   ]
  },
  {
   "cell_type": "markdown",
   "metadata": {
    "deletable": false,
    "editable": false,
    "nbgrader": {
     "cell_type": "markdown",
     "checksum": "8bd442d1a6851664962ce7326d715332",
     "grade": false,
     "grade_id": "cell-5ad85f015d8959ce",
     "locked": true,
     "schema_version": 3,
     "solution": false,
     "task": false
    }
   },
   "source": [
    "User may define own functions using the keyword def. Values may be returned from the function using the return keyword. For example,"
   ]
  },
  {
   "cell_type": "code",
   "execution_count": null,
   "metadata": {},
   "outputs": [],
   "source": [
    "def func(x):\n",
    "    return 2*x # body must be indented"
   ]
  },
  {
   "cell_type": "code",
   "execution_count": null,
   "metadata": {},
   "outputs": [],
   "source": [
    "func(2.345) # call a function in usual fashion"
   ]
  },
  {
   "cell_type": "markdown",
   "metadata": {
    "deletable": false,
    "editable": false,
    "nbgrader": {
     "cell_type": "markdown",
     "checksum": "f229fa34acdfd1c345e530367cd767ef",
     "grade": false,
     "grade_id": "cell-d1f8602ece2a853f",
     "locked": true,
     "schema_version": 3,
     "solution": false,
     "task": false
    }
   },
   "source": [
    "In the cells below you are encouraged to try Python programming on your own. You can add more cells from the Insert menu or hitting the plus sign in the toolbar. The goal is that you become more comfortable with Jupyter notebooks and also with Python."
   ]
  },
  {
   "cell_type": "code",
   "execution_count": null,
   "metadata": {},
   "outputs": [],
   "source": []
  },
  {
   "cell_type": "code",
   "execution_count": null,
   "metadata": {},
   "outputs": [],
   "source": []
  },
  {
   "cell_type": "code",
   "execution_count": null,
   "metadata": {},
   "outputs": [],
   "source": []
  },
  {
   "cell_type": "markdown",
   "metadata": {
    "deletable": false,
    "editable": false,
    "nbgrader": {
     "cell_type": "markdown",
     "checksum": "916720532549ca619c99973159abe641",
     "grade": false,
     "grade_id": "cell-12354d51e56fd496",
     "locked": true,
     "schema_version": 3,
     "solution": false,
     "task": false
    }
   },
   "source": [
    "# Data science with Python\n",
    "\n",
    "This course is geared heavily towards processing data with intelligent methods. Python accommodates this via a range of additional modules (libraries, packages). Here we introduce some central modules in this direction.\n",
    "\n",
    "**You dont need to install any libraries by yourself**. All the required libraries are pre-installed on the JupertHub server. If you notice that some library is missing, please send email to course assistants.\n",
    "\n",
    "## numpy\n",
    "\n",
    "https://numpy.org/doc/stable/\n",
    "\n",
    "\n",
    "Numerical data is best handled using the module called numpy. Its basic data type is array which can have any shape (dimension) and which can contain any number of elements. Firstly, any additional module must be imported to Python environment using the import statement. It is also a good idea to give the module a shorthand name. For numpy the standard shorthand is np.\n",
    "\n",
    "\n"
   ]
  },
  {
   "cell_type": "code",
   "execution_count": null,
   "metadata": {},
   "outputs": [],
   "source": [
    "import numpy as np"
   ]
  },
  {
   "cell_type": "markdown",
   "metadata": {
    "deletable": false,
    "editable": false,
    "nbgrader": {
     "cell_type": "markdown",
     "checksum": "ebeeb29f1cef862dccad224fea9a3087",
     "grade": false,
     "grade_id": "cell-12f28055fbf4d958",
     "locked": true,
     "schema_version": 3,
     "solution": false,
     "task": false
    }
   },
   "source": [
    "The basic data type in numpy is an array. Arrays have shape and size. Shape is \"dimension\" of the array or number of elements along each axis. Size is total number of elements in an array."
   ]
  },
  {
   "cell_type": "code",
   "execution_count": null,
   "metadata": {},
   "outputs": [],
   "source": [
    "A = np.array([1,2,3,4])\n",
    "print(A)\n",
    "print(np.shape(A)) # one-dimensional array of shape (4,), different than (4,1) or (1,4)\n",
    "print(np.size(A))"
   ]
  },
  {
   "cell_type": "markdown",
   "metadata": {
    "deletable": false,
    "editable": false,
    "nbgrader": {
     "cell_type": "markdown",
     "checksum": "55b98066837ca30bd08bdf5f8afbf61f",
     "grade": false,
     "grade_id": "cell-aaa2fa3011a576d6",
     "locked": true,
     "schema_version": 3,
     "solution": false,
     "task": false
    }
   },
   "source": [
    "Similar to range() in base-Python, linspace() and arange() in numpy allows one to create regularly spaced sequences of values without loops. For example,"
   ]
  },
  {
   "cell_type": "code",
   "execution_count": null,
   "metadata": {},
   "outputs": [],
   "source": [
    "x = np.linspace(0,10,20) # 20 equally spaces values, end points included\n",
    "print(x)"
   ]
  },
  {
   "cell_type": "code",
   "execution_count": null,
   "metadata": {},
   "outputs": [],
   "source": [
    "x2 = np.arange(0,10,2) # equal spacing of 2, right end point not included!\n",
    "print(x2)"
   ]
  },
  {
   "cell_type": "code",
   "execution_count": null,
   "metadata": {},
   "outputs": [],
   "source": [
    "B = np.array([[1,2],[3,4]])\n",
    "print(B)\n",
    "print(\"shape of B is\",np.shape(B)) # two-dimensional array of shape (2,2)\n",
    "print(\"size of B is\",np.size(B))"
   ]
  },
  {
   "cell_type": "markdown",
   "metadata": {
    "deletable": false,
    "editable": false,
    "nbgrader": {
     "cell_type": "markdown",
     "checksum": "8152b4b007ba9696e2d0f79414f5b786",
     "grade": false,
     "grade_id": "cell-49b74b14646325b1",
     "locked": true,
     "schema_version": 3,
     "solution": false,
     "task": false
    }
   },
   "source": [
    "Big arrays of any shape and size can be created, for example, with ones() and zeros()."
   ]
  },
  {
   "cell_type": "code",
   "execution_count": null,
   "metadata": {},
   "outputs": [],
   "source": [
    "Z = np.ones((9,8)) # or np.zeros()\n",
    "print(Z)\n",
    "print(np.shape(Z))\n",
    "print(np.size(Z))"
   ]
  },
  {
   "cell_type": "markdown",
   "metadata": {
    "deletable": false,
    "editable": false,
    "nbgrader": {
     "cell_type": "markdown",
     "checksum": "9d62c4d3aa0f56ea04e04d49f90b2d9c",
     "grade": false,
     "grade_id": "cell-31c1251d9b6e3d85",
     "locked": true,
     "schema_version": 3,
     "solution": false,
     "task": false
    }
   },
   "source": [
    "Also arrays can be sliced. Use one or more indices inside square brackets. Note that also here indexing starts from 0."
   ]
  },
  {
   "cell_type": "code",
   "execution_count": null,
   "metadata": {},
   "outputs": [],
   "source": [
    "print(B[0,0])\n",
    "print(B[0,1])"
   ]
  },
  {
   "cell_type": "markdown",
   "metadata": {
    "deletable": false,
    "editable": false,
    "nbgrader": {
     "cell_type": "markdown",
     "checksum": "13dd2859937eaf26fde040c9a2f748dc",
     "grade": false,
     "grade_id": "cell-198d46fe2ba73e51",
     "locked": true,
     "schema_version": 3,
     "solution": false,
     "task": false
    }
   },
   "source": [
    "One can change the shape of an array using the command reshape(). Naturally, the number of elements in an array cannot change in reshaping."
   ]
  },
  {
   "cell_type": "code",
   "execution_count": null,
   "metadata": {},
   "outputs": [],
   "source": [
    "A.reshape((4,1))"
   ]
  },
  {
   "cell_type": "code",
   "execution_count": null,
   "metadata": {},
   "outputs": [],
   "source": [
    "B.reshape((1,4))"
   ]
  },
  {
   "cell_type": "markdown",
   "metadata": {
    "deletable": false,
    "editable": false,
    "nbgrader": {
     "cell_type": "markdown",
     "checksum": "a40d177d42397e8527225ae3060c5e0d",
     "grade": false,
     "grade_id": "cell-79a0d7390844dc4c",
     "locked": true,
     "schema_version": 3,
     "solution": false,
     "task": false
    }
   },
   "source": [
    "numpy facilitates generating easily and efficiently arrays containing random numbers. For example:"
   ]
  },
  {
   "cell_type": "code",
   "execution_count": null,
   "metadata": {},
   "outputs": [],
   "source": [
    "x = np.random.normal(size=(3,4))\n",
    "print(x)\n",
    "y = np.random.uniform(0,2,10)\n",
    "print(y)"
   ]
  },
  {
   "cell_type": "markdown",
   "metadata": {
    "deletable": false,
    "editable": false,
    "nbgrader": {
     "cell_type": "markdown",
     "checksum": "363ac6f812822df16b4c898b6b6f55d9",
     "grade": false,
     "grade_id": "cell-bd03fbb0529f4858",
     "locked": true,
     "schema_version": 3,
     "solution": false,
     "task": false
    }
   },
   "source": [
    "Often one needs to read data from data files or save data to a file. We demonstrate this with some randomly generated data and CSV files."
   ]
  },
  {
   "cell_type": "code",
   "execution_count": null,
   "metadata": {},
   "outputs": [],
   "source": [
    "x = np.random.normal(size=(3,4))\n",
    "print(x)"
   ]
  },
  {
   "cell_type": "code",
   "execution_count": null,
   "metadata": {},
   "outputs": [],
   "source": [
    "np.savetxt(\"data.csv\", x, delimiter=\",\") # this saves the array to CSV file"
   ]
  },
  {
   "cell_type": "code",
   "execution_count": null,
   "metadata": {},
   "outputs": [],
   "source": [
    "my_data = np.genfromtxt('data.csv', delimiter=',') # read from CSV file\n",
    "print(my_data)"
   ]
  },
  {
   "cell_type": "markdown",
   "metadata": {
    "deletable": false,
    "editable": false,
    "nbgrader": {
     "cell_type": "markdown",
     "checksum": "15c3c753c16af5ec93a1726281ee601a",
     "grade": false,
     "grade_id": "cell-8bde4b1daea009c2",
     "locked": true,
     "schema_version": 3,
     "solution": false,
     "task": false
    }
   },
   "source": [
    "numpy provides also efficient operations for doing arithmetic on arrays. By default, any mathematical operator is applied to an array element-by-element. You should not use loops if array operation is available. For example,"
   ]
  },
  {
   "cell_type": "code",
   "execution_count": null,
   "metadata": {},
   "outputs": [],
   "source": [
    "2*A # double each element"
   ]
  },
  {
   "cell_type": "code",
   "execution_count": null,
   "metadata": {},
   "outputs": [],
   "source": [
    "A+2 # add 2 to each element"
   ]
  },
  {
   "cell_type": "code",
   "execution_count": null,
   "metadata": {},
   "outputs": [],
   "source": [
    "A**2 # square each element"
   ]
  },
  {
   "cell_type": "code",
   "execution_count": null,
   "metadata": {},
   "outputs": [],
   "source": [
    "np.sqrt(A) # take square root of each element"
   ]
  },
  {
   "cell_type": "markdown",
   "metadata": {
    "deletable": false,
    "editable": false,
    "nbgrader": {
     "cell_type": "markdown",
     "checksum": "0aed9304021c4ded861a0b6259e5c6b3",
     "grade": false,
     "grade_id": "cell-bedec33f17a5e65b",
     "locked": true,
     "schema_version": 3,
     "solution": false,
     "task": false
    }
   },
   "source": [
    "Mean, variance and standard deviation are readily available also:"
   ]
  },
  {
   "cell_type": "code",
   "execution_count": null,
   "metadata": {},
   "outputs": [],
   "source": [
    "np.mean(A)"
   ]
  },
  {
   "cell_type": "code",
   "execution_count": null,
   "metadata": {},
   "outputs": [],
   "source": [
    "np.std(A)"
   ]
  },
  {
   "cell_type": "code",
   "execution_count": null,
   "metadata": {},
   "outputs": [],
   "source": [
    "np.var(A)"
   ]
  },
  {
   "cell_type": "markdown",
   "metadata": {
    "deletable": false,
    "editable": false,
    "nbgrader": {
     "cell_type": "markdown",
     "checksum": "5caa97d01d6fcb032208714e63eda94d",
     "grade": false,
     "grade_id": "cell-fc913cbbb4ed2a24",
     "locked": true,
     "schema_version": 3,
     "solution": false,
     "task": false
    }
   },
   "source": [
    "Array operations can be performed also row-wise or column-wise (actually, over any axis). For example,"
   ]
  },
  {
   "cell_type": "code",
   "execution_count": null,
   "metadata": {},
   "outputs": [],
   "source": [
    "print(B)\n",
    "np.sum(B)\n",
    "np.sum(B,axis=0) # column sums, sum along rows (axis=0)\n",
    "np.sum(B,axis=1) # row sums"
   ]
  },
  {
   "cell_type": "markdown",
   "metadata": {
    "deletable": false,
    "editable": false,
    "nbgrader": {
     "cell_type": "markdown",
     "checksum": "a30b001dd80958e167dd655551b9b51a",
     "grade": false,
     "grade_id": "cell-6f7118b573a945dd",
     "locked": true,
     "schema_version": 3,
     "solution": false,
     "task": false
    }
   },
   "source": [
    "These work for arrays of any shape and size. Of particular importance is the multiplication of two matrices (two-dimensional arrays). For the matrix product AB to be defined, the number of columns in A must equal the number of rows in B. For example,\n"
   ]
  },
  {
   "cell_type": "code",
   "execution_count": null,
   "metadata": {},
   "outputs": [],
   "source": [
    "A = np.array([[1,2],[3,4]])\n",
    "B = np.array([[1,2,5],[3,4,-1]])\n",
    "print(A)\n",
    "print(B)"
   ]
  },
  {
   "cell_type": "code",
   "execution_count": null,
   "metadata": {},
   "outputs": [],
   "source": [
    "np.matmul(A,B) # numpy matrix product (not elementwise product!)"
   ]
  },
  {
   "cell_type": "code",
   "execution_count": null,
   "metadata": {},
   "outputs": [],
   "source": [
    "A*B # elementwise product does not work (sizes do not match)"
   ]
  },
  {
   "cell_type": "markdown",
   "metadata": {
    "deletable": false,
    "editable": false,
    "nbgrader": {
     "cell_type": "markdown",
     "checksum": "f7f07fbf0c51ce561d68144fcf20f704",
     "grade": false,
     "grade_id": "cell-2fbdef188b4f3fe4",
     "locked": true,
     "schema_version": 3,
     "solution": false,
     "task": false
    }
   },
   "source": [
    "numpy provides also some basic operations from linear algebra for matrices. Full documentation is at\n",
    "https://numpy.org/doc/stable/reference/routines.linalg.html\n",
    "\n",
    "Examples:"
   ]
  },
  {
   "cell_type": "code",
   "execution_count": null,
   "metadata": {},
   "outputs": [],
   "source": [
    "e,v = np.linalg.eig(A) # eigenvalues and eigenvectors\n",
    "print(e)\n",
    "print(v)"
   ]
  },
  {
   "cell_type": "code",
   "execution_count": null,
   "metadata": {},
   "outputs": [],
   "source": [
    "np.linalg.det(A) # det(A)"
   ]
  },
  {
   "cell_type": "code",
   "execution_count": null,
   "metadata": {},
   "outputs": [],
   "source": [
    "np.linalg.inv(A) # matrix inverse"
   ]
  },
  {
   "cell_type": "code",
   "execution_count": null,
   "metadata": {},
   "outputs": [],
   "source": [
    "np.linalg.solve(A,B) # solution of linear system Ax=b with multiple right hand sides b"
   ]
  },
  {
   "cell_type": "markdown",
   "metadata": {
    "deletable": false,
    "editable": false,
    "nbgrader": {
     "cell_type": "markdown",
     "checksum": "4080a41b29a3a1cde52fd491453d09c7",
     "grade": false,
     "grade_id": "cell-eacdc61dd5e6b224",
     "locked": true,
     "schema_version": 3,
     "solution": false,
     "task": false
    }
   },
   "source": [
    "When it comes to copying arrays one should be cautious. If usual assignment operation is performed then changing the original array changes the new array also:"
   ]
  },
  {
   "cell_type": "code",
   "execution_count": null,
   "metadata": {},
   "outputs": [],
   "source": [
    "A = np.array([1,2,3,4])\n",
    "B = A\n",
    "A[0] = 10 # this changes B also!!\n",
    "print(B)"
   ]
  },
  {
   "cell_type": "markdown",
   "metadata": {},
   "source": [
    "In order to avoid this one should perform so called deep copy using copy() method as follows:"
   ]
  },
  {
   "cell_type": "code",
   "execution_count": null,
   "metadata": {},
   "outputs": [],
   "source": [
    "A = np.array([1,2,3,4])\n",
    "B = A.copy() # make deep copy\n",
    "A[0] = 10 # does not change B anymore\n",
    "print(B)"
   ]
  },
  {
   "cell_type": "markdown",
   "metadata": {
    "deletable": false,
    "editable": false,
    "nbgrader": {
     "cell_type": "markdown",
     "checksum": "7370ca64164c4b80f527493f5a49dbec",
     "grade": false,
     "grade_id": "cell-e06878c7274f6a2b",
     "locked": true,
     "schema_version": 3,
     "solution": false,
     "task": false
    }
   },
   "source": [
    "## matplotlib\n",
    "\n",
    "https://matplotlib.org/stable/api/pyplot_summary.html\n",
    "\n",
    "matplotlib is the plotting library for Python. It is imported as follows:"
   ]
  },
  {
   "cell_type": "code",
   "execution_count": null,
   "metadata": {},
   "outputs": [],
   "source": [
    "import matplotlib.pyplot as plt"
   ]
  },
  {
   "cell_type": "markdown",
   "metadata": {
    "deletable": false,
    "editable": false,
    "nbgrader": {
     "cell_type": "markdown",
     "checksum": "850bdb44eb8fa9850fa0b8d06b700c40",
     "grade": false,
     "grade_id": "cell-cab0074b0bcedd34",
     "locked": true,
     "schema_version": 3,
     "solution": false,
     "task": false
    }
   },
   "source": [
    "For line plots the basic command is plot() which needs a set of data points to be connected to form a polygonal line. Finer grid spacing allows to plot smooth lines too:"
   ]
  },
  {
   "cell_type": "code",
   "execution_count": null,
   "metadata": {},
   "outputs": [],
   "source": [
    "x = np.linspace(0,2*np.pi,50) # 50 is number of points\n",
    "y = np.sin(x) # sine curve of x\n",
    "y2 = np.cos(x) # cosine curve of x\n",
    "\n",
    "\n",
    "plt.plot(x,y,color='r')\n",
    "plt.plot(x,y2,color='b')\n",
    "plt.xlabel(\"x\")\n",
    "plt.title(\"sine and cosine\")\n",
    "plt.show() # this shows the full plot"
   ]
  },
  {
   "cell_type": "markdown",
   "metadata": {
    "deletable": false,
    "editable": false,
    "nbgrader": {
     "cell_type": "markdown",
     "checksum": "049d263c145912dea78ea08f450a5297",
     "grade": false,
     "grade_id": "cell-76d4ef727401f5b9",
     "locked": true,
     "schema_version": 3,
     "solution": false,
     "task": false
    }
   },
   "source": [
    "Scatter plots do not join data points with lines and form polygons."
   ]
  },
  {
   "cell_type": "code",
   "execution_count": null,
   "metadata": {},
   "outputs": [],
   "source": [
    "plt.scatter(x,y)"
   ]
  },
  {
   "cell_type": "code",
   "execution_count": null,
   "metadata": {},
   "outputs": [],
   "source": [
    "plt.scatter([1,2,3,4],[2,3,4,1]) # another example"
   ]
  },
  {
   "cell_type": "markdown",
   "metadata": {
    "deletable": false,
    "editable": false,
    "nbgrader": {
     "cell_type": "markdown",
     "checksum": "4c55a39b28b50a820f5ee10e89a768f7",
     "grade": false,
     "grade_id": "cell-02d3082875272cf1",
     "locked": true,
     "schema_version": 3,
     "solution": false,
     "task": false
    }
   },
   "source": [
    "Histograms:"
   ]
  },
  {
   "cell_type": "code",
   "execution_count": null,
   "metadata": {},
   "outputs": [],
   "source": [
    "x3 = np.random.randn(1000)\n",
    "plt.hist(x3, 50) # histogram with 50 bins\n",
    "plt.show()"
   ]
  },
  {
   "cell_type": "markdown",
   "metadata": {
    "deletable": false,
    "editable": false,
    "nbgrader": {
     "cell_type": "markdown",
     "checksum": "5c3dc54b033614fc2f14d6a5752b00c7",
     "grade": false,
     "grade_id": "cell-e28b9ded9cccf7d2",
     "locked": true,
     "schema_version": 3,
     "solution": false,
     "task": false
    }
   },
   "source": [
    "One can show two (or more) plots together by using subplots. For example,"
   ]
  },
  {
   "cell_type": "code",
   "execution_count": null,
   "metadata": {},
   "outputs": [],
   "source": [
    "# create figure and axes objects\n",
    "fig, axes = plt.subplots(1,2)\n",
    "\n",
    "axes[0].plot(x,y,color='r')\n",
    "axes[1].scatter(x,y2,color='b')\n",
    "\n",
    " \n",
    "axes[0].set_xlabel(\"x\")\n",
    "axes[0].set_ylabel(\"y1\")\n",
    "axes[1].set_xlabel(\"x\")\n",
    "axes[1].set_ylabel(\"y2\")\n",
    "axes[0].set_title('plot 1')\n",
    "axes[1].set_title('plot 2')\n",
    "fig.suptitle(\"Main title\")\n",
    "\n",
    "plt.show()"
   ]
  },
  {
   "cell_type": "markdown",
   "metadata": {
    "deletable": false,
    "editable": false,
    "nbgrader": {
     "cell_type": "markdown",
     "checksum": "87f24b6b907cb0eb558c7cfb61dabefb",
     "grade": false,
     "grade_id": "cell-e8d75299513721db",
     "locked": true,
     "schema_version": 3,
     "solution": false,
     "task": false
    }
   },
   "source": [
    "## pandas (data frames)\n",
    "https://pandas.pydata.org/docs/"
   ]
  },
  {
   "cell_type": "markdown",
   "metadata": {
    "deletable": false,
    "editable": false,
    "nbgrader": {
     "cell_type": "markdown",
     "checksum": "90cc82fa3310a2e9aacc94368384f1e7",
     "grade": false,
     "grade_id": "cell-07631576a09a3323",
     "locked": true,
     "schema_version": 3,
     "solution": false,
     "task": false
    }
   },
   "source": [
    "Data containing both numerical and other formats are easiest to handle using data frames from module pandas."
   ]
  },
  {
   "cell_type": "code",
   "execution_count": null,
   "metadata": {},
   "outputs": [],
   "source": [
    "import pandas as pd"
   ]
  },
  {
   "cell_type": "code",
   "execution_count": null,
   "metadata": {},
   "outputs": [],
   "source": [
    "data = [['dogs', 10], ['cats', 15], ['mice', 14]] \n",
    "# Create the pandas DataFrame from Python list of lists\n",
    "df = pd.DataFrame(data, columns = ['Name', 'Count']) \n",
    "df"
   ]
  },
  {
   "cell_type": "markdown",
   "metadata": {
    "deletable": false,
    "editable": false,
    "nbgrader": {
     "cell_type": "markdown",
     "checksum": "3669fbbbb515295d7a10d7959447968b",
     "grade": false,
     "grade_id": "cell-c67344dcb7cf5bdd",
     "locked": true,
     "schema_version": 3,
     "solution": false,
     "task": false
    }
   },
   "source": [
    "Slicing (or indexing) a column can be done using column name or index."
   ]
  },
  {
   "cell_type": "code",
   "execution_count": null,
   "metadata": {},
   "outputs": [],
   "source": [
    "df[[\"Count\"]]"
   ]
  },
  {
   "cell_type": "code",
   "execution_count": null,
   "metadata": {},
   "outputs": [],
   "source": [
    "df[[\"Count\"]].values"
   ]
  },
  {
   "cell_type": "code",
   "execution_count": null,
   "metadata": {},
   "outputs": [],
   "source": [
    "df.iloc[:,1]"
   ]
  },
  {
   "cell_type": "markdown",
   "metadata": {
    "deletable": false,
    "editable": false,
    "nbgrader": {
     "cell_type": "markdown",
     "checksum": "e1fcdcf682fa9d5662b01a7cf435ee24",
     "grade": false,
     "grade_id": "cell-1343e1d2ab472665",
     "locked": true,
     "schema_version": 3,
     "solution": false,
     "task": false
    }
   },
   "source": [
    "Slicing rows is done using index:"
   ]
  },
  {
   "cell_type": "code",
   "execution_count": null,
   "metadata": {},
   "outputs": [],
   "source": [
    "df.loc[0,:]"
   ]
  },
  {
   "cell_type": "code",
   "execution_count": null,
   "metadata": {},
   "outputs": [],
   "source": [
    "df.loc[0,:].values"
   ]
  },
  {
   "cell_type": "code",
   "execution_count": null,
   "metadata": {},
   "outputs": [],
   "source": []
  },
  {
   "cell_type": "markdown",
   "metadata": {
    "deletable": false,
    "editable": false,
    "nbgrader": {
     "cell_type": "markdown",
     "checksum": "48e682ba5323ab812bea147866633925",
     "grade": false,
     "grade_id": "cell-a22f2cc2c0efe29d",
     "locked": true,
     "schema_version": 3,
     "solution": false,
     "task": false
    }
   },
   "source": [
    "Also pandas allows to read data from files. For example,"
   ]
  },
  {
   "cell_type": "code",
   "execution_count": null,
   "metadata": {},
   "outputs": [],
   "source": [
    "df = pd.read_csv(\"data/iris.csv\")\n",
    "df.head()"
   ]
  },
  {
   "cell_type": "code",
   "execution_count": null,
   "metadata": {},
   "outputs": [],
   "source": [
    "df.loc[0:15,:]"
   ]
  },
  {
   "cell_type": "markdown",
   "metadata": {
    "deletable": false,
    "editable": false,
    "nbgrader": {
     "cell_type": "markdown",
     "checksum": "2ea952f3bb49a62fcb22649fe88a2963",
     "grade": false,
     "grade_id": "cell-4843b1f950a674d9",
     "locked": true,
     "schema_version": 3,
     "solution": false,
     "task": false
    }
   },
   "source": [
    "## sklearn\n",
    "https://scikit-learn.org/stable/user_guide.html\n",
    "\n",
    "sklearn (or scikit-learn) is a module which provides numerous algorithms for machine learning. Many of them follow the same paradigm: 1) pick algorithm/model, 2) train model with data, 3) predict using trained model, 4) evaluate"
   ]
  },
  {
   "cell_type": "markdown",
   "metadata": {
    "deletable": false,
    "editable": false,
    "nbgrader": {
     "cell_type": "markdown",
     "checksum": "1937613ca7cac04775d1ad0f66d014d2",
     "grade": false,
     "grade_id": "cell-53c91e51e1a571ff",
     "locked": true,
     "schema_version": 3,
     "solution": false,
     "task": false
    }
   },
   "source": [
    "We demonstrate sklearn by way of performing simple linear regression using it. The dataset consists of weight and height measurements of people."
   ]
  },
  {
   "cell_type": "code",
   "execution_count": null,
   "metadata": {},
   "outputs": [],
   "source": [
    "import pandas as pd\n",
    "import numpy as np"
   ]
  },
  {
   "cell_type": "code",
   "execution_count": null,
   "metadata": {},
   "outputs": [],
   "source": [
    "df = pd.read_csv(\"data/weight-height.csv\")\n",
    "df.head()"
   ]
  },
  {
   "cell_type": "code",
   "execution_count": null,
   "metadata": {},
   "outputs": [],
   "source": [
    "X = 2.54*df['Height'] # inches to cm\n",
    "y = 0.454*df['Weight'] # pounds to kg\n",
    "plt.scatter(X,y)\n",
    "plt.xlabel('height (cm)')\n",
    "plt.ylabel('weight (kg)')\n",
    "plt.show()"
   ]
  },
  {
   "cell_type": "markdown",
   "metadata": {
    "deletable": false,
    "editable": false,
    "nbgrader": {
     "cell_type": "markdown",
     "checksum": "6b0c98b493b75db6a35ef6ff287e713f",
     "grade": false,
     "grade_id": "cell-30ec7f139e103ad6",
     "locked": true,
     "schema_version": 3,
     "solution": false,
     "task": false
    }
   },
   "source": [
    "For usage with sklearn we transform the data to numpy arrays (two-dimensional)."
   ]
  },
  {
   "cell_type": "code",
   "execution_count": null,
   "metadata": {},
   "outputs": [],
   "source": [
    "X = np.array(X)\n",
    "y = np.array(y)\n",
    "X = X.reshape(-1,1) # automatic reshape to column vector\n",
    "y = y.reshape(-1,1)"
   ]
  },
  {
   "cell_type": "markdown",
   "metadata": {},
   "source": [
    "Split the dataset into training (80%), validation (10%) and testing sets (10%). \n",
    "\n",
    "Note: In this example, we didn't use the validation set. The validation set assesses the model's performance during training, guiding parameter adjustments and helping prevent overfitting."
   ]
  },
  {
   "cell_type": "code",
   "execution_count": null,
   "metadata": {},
   "outputs": [],
   "source": [
    "from sklearn.model_selection import train_test_split\n",
    "\n",
    "Xtrain, Xtest, ytrain, ytest = train_test_split(X, y, random_state=0,test_size = 0.2)\n",
    "Xval, Xtest, yval, ytest = train_test_split(Xtest, ytest, random_state=0,test_size=0.5)"
   ]
  },
  {
   "cell_type": "markdown",
   "metadata": {
    "deletable": false,
    "editable": false,
    "nbgrader": {
     "cell_type": "markdown",
     "checksum": "4f5c1169693084a2facf4424471be87d",
     "grade": false,
     "grade_id": "cell-060f8b19aad23e1c",
     "locked": true,
     "schema_version": 3,
     "solution": false,
     "task": false
    }
   },
   "source": [
    "From sklearn module we import the model for linear regression and fit it with our data."
   ]
  },
  {
   "cell_type": "code",
   "execution_count": null,
   "metadata": {},
   "outputs": [],
   "source": [
    "from sklearn.linear_model import LinearRegression\n",
    "\n",
    "lr = LinearRegression()\n",
    "lr.fit(Xtrain, ytrain)"
   ]
  },
  {
   "cell_type": "markdown",
   "metadata": {
    "deletable": false,
    "editable": false,
    "nbgrader": {
     "cell_type": "markdown",
     "checksum": "c6237c50ba5900406fa80b8b7bd923d9",
     "grade": false,
     "grade_id": "cell-af2b1f33a3886c69",
     "locked": true,
     "schema_version": 3,
     "solution": false,
     "task": false
    }
   },
   "source": [
    "Now the model can be used to predict any value of X. Results are plotted together."
   ]
  },
  {
   "cell_type": "code",
   "execution_count": null,
   "metadata": {},
   "outputs": [],
   "source": [
    "xpred = np.array([177,185,140,200]).reshape(-1,1)\n",
    "ypred = lr.predict(xpred)\n",
    "plt.scatter(X,y)\n",
    "plt.scatter(xpred,ypred,color=\"red\") # or plot, predicted values align on regression line\n",
    "plt.show()\n"
   ]
  },
  {
   "cell_type": "code",
   "execution_count": null,
   "metadata": {},
   "outputs": [],
   "source": []
  },
  {
   "cell_type": "code",
   "execution_count": null,
   "metadata": {},
   "outputs": [],
   "source": []
  },
  {
   "cell_type": "code",
   "execution_count": null,
   "metadata": {},
   "outputs": [],
   "source": []
  },
  {
   "cell_type": "code",
   "execution_count": null,
   "metadata": {},
   "outputs": [],
   "source": []
  },
  {
   "cell_type": "code",
   "execution_count": null,
   "metadata": {},
   "outputs": [],
   "source": []
  },
  {
   "cell_type": "code",
   "execution_count": null,
   "metadata": {},
   "outputs": [],
   "source": []
  },
  {
   "cell_type": "code",
   "execution_count": null,
   "metadata": {},
   "outputs": [],
   "source": []
  },
  {
   "cell_type": "markdown",
   "metadata": {
    "deletable": false,
    "editable": false,
    "nbgrader": {
     "cell_type": "markdown",
     "checksum": "561b85291c0ab1faedd185b0509809be",
     "grade": false,
     "grade_id": "cell-2a31b939b31ab733",
     "locked": true,
     "schema_version": 3,
     "solution": false,
     "task": false
    }
   },
   "source": [
    "# Problems (no grading or evaluation)"
   ]
  },
  {
   "cell_type": "markdown",
   "metadata": {
    "deletable": false,
    "editable": false,
    "nbgrader": {
     "cell_type": "markdown",
     "checksum": "47e4380a1ddb3f8b17f2c3d1746053de",
     "grade": false,
     "grade_id": "cell-3a73600777aba82b",
     "locked": true,
     "schema_version": 3,
     "solution": false,
     "task": false
    }
   },
   "source": [
    "<a id='Task1.1'></a>\n",
    "<div class=\" alert alert-warning\">\n",
    "    <b>Problem 1</b>\n",
    "\n",
    "<p>Define a function which computes the value of the probability density function (pdf) of normal distribution. Mean $\\mu$ and standard deviation $\\sigma$ of the distribution should be passed as parameters to the function. Call your function couple of times to make sure it works correctly.</p>\n",
    "\n",
    "</div>"
   ]
  },
  {
   "cell_type": "code",
   "execution_count": null,
   "metadata": {
    "deletable": false,
    "nbgrader": {
     "cell_type": "code",
     "checksum": "a46150bcbe374b404ac957aa60cb98dc",
     "grade": false,
     "grade_id": "cell-3581233d6e147db0",
     "locked": false,
     "schema_version": 3,
     "solution": true,
     "task": false
    }
   },
   "outputs": [],
   "source": [
    "def pdf(x, mu, sigma):\n",
    "    # Use this function to calculate the value\n",
    "    # YOUR CODE HERE\n",
    "    raise NotImplementedError()\n",
    "    return value"
   ]
  },
  {
   "cell_type": "code",
   "execution_count": null,
   "metadata": {},
   "outputs": [],
   "source": [
    "# You can call the function in this cell"
   ]
  },
  {
   "cell_type": "code",
   "execution_count": null,
   "metadata": {
    "deletable": false,
    "editable": false,
    "nbgrader": {
     "cell_type": "code",
     "checksum": "46f2b27b51f142c7667f09e47039c111",
     "grade": true,
     "grade_id": "cell-ed8ea2b293b1dbf6",
     "locked": true,
     "points": 1,
     "schema_version": 3,
     "solution": false,
     "task": false
    }
   },
   "outputs": [],
   "source": [
    "# Your points for the Problem 1 will be given in this cell. Do not modify it."
   ]
  },
  {
   "cell_type": "markdown",
   "metadata": {
    "deletable": false,
    "editable": false,
    "nbgrader": {
     "cell_type": "markdown",
     "checksum": "3acbf03a16395578733a293f17e91f1a",
     "grade": false,
     "grade_id": "cell-7038a9d2bc57ca5f",
     "locked": true,
     "schema_version": 3,
     "solution": false,
     "task": false
    }
   },
   "source": [
    "<a id='Task1.2'></a>\n",
    "<div class=\" alert alert-warning\">\n",
    "    <b>Problem 2</b>\n",
    "\n",
    "<p>Using the function you defined in Problem 1, plot the graph of the probability density function of normal distribution for your favorite values of $\\mu$ and $\\sigma$. You may plot several graphs into same picture. Try different line colors and line styles by consulting matplotlib documentation. Add title and axis labels.\n",
    "    \n",
    " </p>\n",
    "\n",
    "</div>"
   ]
  },
  {
   "cell_type": "code",
   "execution_count": null,
   "metadata": {
    "deletable": false,
    "nbgrader": {
     "cell_type": "code",
     "checksum": "e55f1bb453838ea831a9dbf3e7a47fc7",
     "grade": false,
     "grade_id": "cell-4737594bfcd5226e",
     "locked": false,
     "schema_version": 3,
     "solution": true,
     "task": false
    }
   },
   "outputs": [],
   "source": [
    "# Do the plotting in this cell\n",
    "# YOUR CODE HERE\n",
    "raise NotImplementedError()"
   ]
  },
  {
   "cell_type": "code",
   "execution_count": null,
   "metadata": {
    "deletable": false,
    "editable": false,
    "nbgrader": {
     "cell_type": "code",
     "checksum": "bc12717bfec044239549d39f3189caf6",
     "grade": true,
     "grade_id": "cell-d53a349fd4d8377a",
     "locked": true,
     "points": 1,
     "schema_version": 3,
     "solution": false,
     "task": false
    }
   },
   "outputs": [],
   "source": [
    "# Your points for the Problem 2 will be given in this cell. Do not modify it."
   ]
  },
  {
   "cell_type": "markdown",
   "metadata": {
    "deletable": false,
    "editable": false,
    "nbgrader": {
     "cell_type": "markdown",
     "checksum": "8bac0609e297550831bdb140288799c3",
     "grade": false,
     "grade_id": "cell-bc8b2a6b2bda6290",
     "locked": true,
     "schema_version": 3,
     "solution": false,
     "task": false
    }
   },
   "source": [
    "<a id='Task1.3'></a>\n",
    "<div class=\" alert alert-warning\">\n",
    "    <b>Problem 3</b>\n",
    "\n",
    "<p>a) Simulate throwing a fair die 1000 times by drawing samples from the uniform distribution. Consult numpy documentation on how to do that. Do not use loops.\n",
    "    \n",
    "b) Compute the (theoretical expectation of the distribution using the definition from Lecture 1, p.25. Use array operations instead of loops. Compare the result to expectation of your sample computed using numpy's mean().\n",
    "    \n",
    "    \n",
    " c)   Compute also the (theoretical) variance of the distribution by formula\n",
    "    $$\n",
    "    Var(X)=E[X^2]-\\mu^2,\n",
    "    $$\n",
    "    where \n",
    "    $$\n",
    "    E[X^2]=\\sum_i x_i^2 P(X=x_i)\n",
    "    $$\n",
    "    (avoid loops again). Compare the result to variance of your sample computed using numpy.\n",
    "    \n",
    " </p>\n",
    "\n",
    "</div>"
   ]
  },
  {
   "cell_type": "code",
   "execution_count": null,
   "metadata": {
    "deletable": false,
    "nbgrader": {
     "cell_type": "code",
     "checksum": "3880f3ec729f5e78acf6c00b7b320004",
     "grade": false,
     "grade_id": "cell-c00a8752c160c309",
     "locked": false,
     "schema_version": 3,
     "solution": true,
     "task": false
    }
   },
   "outputs": [],
   "source": [
    "np.random.seed(0) # Do not change or remove\n",
    "\n",
    "# YOUR CODE HERE\n",
    "raise NotImplementedError()\n",
    "x = \"Your answer here\" # Simulate the dice throws \n",
    "expected_value = \"Your answer here\" # Calculate the expected value of the dice throw\n",
    "mean = \"Your answer here\" # Calculate the mean value of the dice throws\n",
    "variance = \"Your answer here\" # Calculate the variance of the dice throws\n"
   ]
  },
  {
   "cell_type": "code",
   "execution_count": null,
   "metadata": {
    "deletable": false,
    "editable": false,
    "nbgrader": {
     "cell_type": "code",
     "checksum": "c71cf6eaceb926926aed4f6a68ecfa31",
     "grade": true,
     "grade_id": "cell-3f00591a8b0ac73e",
     "locked": true,
     "points": 1,
     "schema_version": 3,
     "solution": false,
     "task": false
    }
   },
   "outputs": [],
   "source": [
    "# Your points for the Problem 3 expected value will be given in this cell. Do not modify it."
   ]
  },
  {
   "cell_type": "code",
   "execution_count": null,
   "metadata": {
    "deletable": false,
    "editable": false,
    "nbgrader": {
     "cell_type": "code",
     "checksum": "64076b14bdc39a1d3dddd28dddb29682",
     "grade": true,
     "grade_id": "cell-176612274c56d48e",
     "locked": true,
     "points": 1,
     "schema_version": 3,
     "solution": false,
     "task": false
    }
   },
   "outputs": [],
   "source": [
    "# Your points for the Problem 3 mean will be given in this cell. Do not modify it."
   ]
  },
  {
   "cell_type": "code",
   "execution_count": null,
   "metadata": {
    "deletable": false,
    "editable": false,
    "nbgrader": {
     "cell_type": "code",
     "checksum": "d2a8a635d449ba970ba23bf556626bb7",
     "grade": true,
     "grade_id": "cell-877b30865c9ab94f",
     "locked": true,
     "points": 1,
     "schema_version": 3,
     "solution": false,
     "task": false
    }
   },
   "outputs": [],
   "source": [
    "# Your points for the Problem 3 variance will be given in this cell. Do not modify it."
   ]
  },
  {
   "cell_type": "markdown",
   "metadata": {
    "deletable": false,
    "editable": false,
    "nbgrader": {
     "cell_type": "markdown",
     "checksum": "b4871abba5a90cd5cb0af589b56db9fb",
     "grade": false,
     "grade_id": "cell-dde55875f81f165f",
     "locked": true,
     "schema_version": 3,
     "solution": false,
     "task": false
    }
   },
   "source": [
    "<a id='Task1.4'></a>\n",
    "<div class=\" alert alert-warning\">\n",
    "    <b>Problem 4</b>\n",
    "\n",
    "<p>Consider the data frame above containing people's heights and weights. Store the heights in numpy array x, and weights in y in similar fashion. Compute the covariance matrix and correlation coefficient between x and y. Hint: numpy's cov() and corrcoef(). Interpret the results.\n",
    "    \n",
    "    \n",
    " </p>\n",
    "\n",
    "</div>"
   ]
  },
  {
   "cell_type": "code",
   "execution_count": null,
   "metadata": {
    "deletable": false,
    "nbgrader": {
     "cell_type": "code",
     "checksum": "3d6c345638c5415f88cdbca144bfcb48",
     "grade": false,
     "grade_id": "cell-2178ac7d35a15853",
     "locked": false,
     "schema_version": 3,
     "solution": true,
     "task": false
    }
   },
   "outputs": [],
   "source": [
    "# YOUR CODE HERE\n",
    "raise NotImplementedError()\n",
    "covariance = \"Your answer here\"\n",
    "correlation_coefficient = \"Your answer here\""
   ]
  },
  {
   "cell_type": "code",
   "execution_count": null,
   "metadata": {
    "deletable": false,
    "editable": false,
    "nbgrader": {
     "cell_type": "code",
     "checksum": "2a1d9d406b9d054c7a33942f0ef2e654",
     "grade": true,
     "grade_id": "cell-5a3ebf4ca1d19c16",
     "locked": true,
     "points": 1,
     "schema_version": 3,
     "solution": false,
     "task": false
    }
   },
   "outputs": [],
   "source": [
    "# Your points for the Problem 4 covariance will be given in this cell. Do not modify it."
   ]
  },
  {
   "cell_type": "code",
   "execution_count": null,
   "metadata": {
    "deletable": false,
    "editable": false,
    "nbgrader": {
     "cell_type": "code",
     "checksum": "b707689241aa3084edcfbded051db7ef",
     "grade": true,
     "grade_id": "cell-555755f7f595419e",
     "locked": true,
     "points": 1,
     "schema_version": 3,
     "solution": false,
     "task": false
    }
   },
   "outputs": [],
   "source": [
    "# Your points for the Problem 4 correlation coefficient will be given in this cell. Do not modify it."
   ]
  },
  {
   "cell_type": "markdown",
   "metadata": {
    "deletable": false,
    "editable": false,
    "nbgrader": {
     "cell_type": "markdown",
     "checksum": "a53a1289579adb3b75a66354de2d998c",
     "grade": false,
     "grade_id": "cell-b483280201368db9",
     "locked": true,
     "schema_version": 3,
     "solution": false,
     "task": false
    }
   },
   "source": [
    "# Have you used any generative AI tools to assist with your work on this exercise?\n",
    "\"Yes\" or \"No\", answer in the cell below. Open text answer cells supports [Markdown](https://www.markdownguide.org/basic-syntax/) syntax."
   ]
  },
  {
   "cell_type": "markdown",
   "metadata": {
    "deletable": false,
    "nbgrader": {
     "cell_type": "markdown",
     "checksum": "1a59adf0555745d16062d320903c25bd",
     "grade": true,
     "grade_id": "cell-3829e8c589eb11c1",
     "locked": false,
     "points": 0,
     "schema_version": 3,
     "solution": true,
     "task": false
    }
   },
   "source": [
    "YOUR ANSWER HERE"
   ]
  },
  {
   "cell_type": "markdown",
   "metadata": {
    "deletable": false,
    "editable": false,
    "nbgrader": {
     "cell_type": "markdown",
     "checksum": "debc96bb7b83fbbdff7c400cb4eb838c",
     "grade": false,
     "grade_id": "cell-f8d3d145666bc7a3",
     "locked": true,
     "schema_version": 3,
     "solution": false,
     "task": false
    }
   },
   "source": [
    "## If \"Yes\", please provide the names of those tools along with a brief explanation of how you used them.\n",
    "Answer in the cell below"
   ]
  },
  {
   "cell_type": "markdown",
   "metadata": {
    "deletable": false,
    "nbgrader": {
     "cell_type": "markdown",
     "checksum": "98f612383ef66477fdfc4c8cc4a5e922",
     "grade": true,
     "grade_id": "cell-0a5d7acce8ed596e",
     "locked": false,
     "points": 0,
     "schema_version": 3,
     "solution": true,
     "task": false
    }
   },
   "source": [
    "YOUR ANSWER HERE"
   ]
  }
 ],
 "metadata": {
  "kernelspec": {
   "display_name": "Python 3 (ipykernel)",
   "language": "python",
   "name": "python3"
  },
  "language_info": {
   "codemirror_mode": {
    "name": "ipython",
    "version": 3
   },
   "file_extension": ".py",
   "mimetype": "text/x-python",
   "name": "python",
   "nbconvert_exporter": "python",
   "pygments_lexer": "ipython3",
   "version": "3.12.2"
  },
  "nbdime-conflicts": {
   "local_diff": [
    {
     "diff": [
      {
       "diff": [
        {
         "diff": [
          {
           "key": 4,
           "op": "addrange",
           "valuelist": "3"
          },
          {
           "key": 4,
           "length": 1,
           "op": "removerange"
          }
         ],
         "key": 0,
         "op": "patch"
        }
       ],
       "key": "version",
       "op": "patch"
      }
     ],
     "key": "language_info",
     "op": "patch"
    }
   ],
   "remote_diff": [
    {
     "diff": [
      {
       "diff": [
        {
         "diff": [
          {
           "key": 4,
           "op": "addrange",
           "valuelist": "4"
          },
          {
           "key": 4,
           "length": 1,
           "op": "removerange"
          }
         ],
         "key": 0,
         "op": "patch"
        }
       ],
       "key": "version",
       "op": "patch"
      }
     ],
     "key": "language_info",
     "op": "patch"
    }
   ]
  },
  "toc": {
   "base_numbering": 1,
   "nav_menu": {},
   "number_sections": false,
   "sideBar": true,
   "skip_h1_title": false,
   "title_cell": "Table of Contents",
   "title_sidebar": "Contents",
   "toc_cell": false,
   "toc_position": {
    "height": "507.275px",
    "left": "23.975px",
    "top": "145.5px",
    "width": "318px"
   },
   "toc_section_display": true,
   "toc_window_display": true
  },
  "varInspector": {
   "cols": {
    "lenName": 16,
    "lenType": 16,
    "lenVar": 40
   },
   "kernels_config": {
    "python": {
     "delete_cmd_postfix": "",
     "delete_cmd_prefix": "del ",
     "library": "var_list.py",
     "varRefreshCmd": "print(var_dic_list())"
    },
    "r": {
     "delete_cmd_postfix": ") ",
     "delete_cmd_prefix": "rm(",
     "library": "var_list.r",
     "varRefreshCmd": "cat(var_dic_list()) "
    }
   },
   "oldHeight": 194.85,
   "position": {
    "height": "216.85px",
    "left": "1417px",
    "right": "18px",
    "top": "126px",
    "width": "485px"
   },
   "types_to_exclude": [
    "module",
    "function",
    "builtin_function_or_method",
    "instance",
    "_Feature"
   ],
   "varInspector_section_display": "block",
   "window_display": true
  }
 },
 "nbformat": 4,
 "nbformat_minor": 4
}
