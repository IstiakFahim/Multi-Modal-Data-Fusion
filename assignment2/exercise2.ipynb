{
 "cells": [
  {
   "cell_type": "markdown",
   "metadata": {},
   "source": [
    "Before you turn this problem in, make sure everything runs as expected. First, **restart the kernel** (in the menubar, select Kernel$\\rightarrow$Restart) and then **run all cells** (in the menubar, select Cell$\\rightarrow$Run All).\n",
    "\n",
    "If a variable is given to you, give your answer to that variable. In case of multiple choice questions, answer to the given variable. Make sure your variable has a **string value** and it contains only the letter of your choice. For example if you think that choice b is the correct choice, and the given variable is answer, your answer should look like this:\n",
    "\n",
    "answer = 'b'\n",
    "\n",
    "or \n",
    "\n",
    "answer = 'B'\n",
    "\n",
    "If you need to read a file for a task, datafiles, such as .csv or .txt files are found in data subfolder. This can be accessed using data/filename.extension. In case of image, they are found in subfolder images. \n",
    "\n",
    "Make sure you fill in any place that says `YOUR CODE HERE` or \"YOUR ANSWER HERE\", as well as your name below:"
   ]
  },
  {
   "cell_type": "code",
   "execution_count": 1,
   "metadata": {},
   "outputs": [],
   "source": [
    "NAME = \"Fahim Istiak\""
   ]
  },
  {
   "cell_type": "markdown",
   "metadata": {},
   "source": [
    "---"
   ]
  },
  {
   "cell_type": "markdown",
   "metadata": {},
   "source": [
    "# Multi-Modal Data Fusion - Exercise 2: Common representation"
   ]
  },
  {
   "cell_type": "markdown",
   "metadata": {
    "deletable": false,
    "editable": false,
    "nbgrader": {
     "cell_type": "markdown",
     "checksum": "59dd1185b4f90adfa4a002d97808589f",
     "grade": false,
     "grade_id": "cell-ef8f152a42f34e93",
     "locked": true,
     "schema_version": 3,
     "solution": false,
     "task": false
    }
   },
   "source": [
    "\n",
    "## Learning goals\n",
    "\n",
    "After this exercise, you should\n",
    "  \n",
    "- be able to implement PCA on your own and use it from sklearn\n",
    "- be able to implement LDA algorithm\n",
    "- be able to implement bootstrapping algorithm\n",
    "- know how to apply (Gradient) Boosting algorithm for classification problem\n",
    "\n",
    "\n",
    "\n",
    "## Relevant lecture\n",
    "\n",
    "Lecture 3.\n",
    "\n",
    "## Relevant chapters in course book\n",
    "\n",
    "Chapter 4.\n",
    "\n",
    "## Additional material\n",
    "\n",
    "- Scikit-learn https://scikit-learn.org/stable/\n",
    "- Pandas https://pandas.pydata.org/docs/\n",
    "- numpy https://numpy.org/doc/stable/"
   ]
  },
  {
   "cell_type": "markdown",
   "metadata": {
    "deletable": false,
    "editable": false,
    "nbgrader": {
     "cell_type": "markdown",
     "checksum": "c55e7b4d2ae388071d4638812d2768c1",
     "grade": false,
     "grade_id": "cell-1f5a243760ff7346",
     "locked": true,
     "schema_version": 3,
     "solution": false,
     "task": false
    }
   },
   "source": [
    "# Assignments"
   ]
  },
  {
   "cell_type": "markdown",
   "metadata": {
    "deletable": false,
    "editable": false,
    "nbgrader": {
     "cell_type": "markdown",
     "checksum": "cf3996377f8d23b6c6459fa27c6e1ee8",
     "grade": false,
     "grade_id": "cell-4855eb9b08d0e548",
     "locked": true,
     "schema_version": 3,
     "solution": false,
     "task": false
    }
   },
   "source": [
    "<a id='Task1.1'></a>\n",
    "<div class=\" alert alert-warning\">\n",
    "    <b>Problem 1: Bootstrapping</b>\n",
    "\n",
    "<p>Implement bootstrapping (see Lecture 3) to the function stub below. You may assume that D is the dataset given as Python list. M is the number of resamples drawn and N is the number of observations in the original dataset. The function should return MxN matrix where each row contains one bootstrapped sample. \n",
    "    \n",
    "Use of numpy is recommended, especially <a href='https://numpy.org/doc/stable/reference/generated/numpy.ma.size.html'>size()</a> and <a href='https://numpy.org/doc/stable/reference/generated/numpy.tile.html'>tile()</a>. Try to use as few for loops as possible.</p>\n",
    "\n",
    "</div>"
   ]
  },
  {
   "cell_type": "code",
   "execution_count": 2,
   "metadata": {
    "deletable": false,
    "nbgrader": {
     "cell_type": "code",
     "checksum": "e43934249fc2c1fcedffe98340063ab9",
     "grade": false,
     "grade_id": "problem_1_answer",
     "locked": false,
     "schema_version": 3,
     "solution": true,
     "task": false
    }
   },
   "outputs": [],
   "source": [
    "import numpy as np\n",
    "\n",
    "def bootstrap(D,M):\n",
    "    # Implement here\n",
    "    np.random.seed(0) #Do not change or remove\n",
    "    # YOUR CODE HERE\n",
    "    #raise NotImplementedError()\n",
    "\n",
    "    N = len(D)  \n",
    "\n",
    "    bootstrapped_samples = np.random.choice(D, size=(M, N), replace=True)\n",
    "    return bootstrapped_samples\n"
   ]
  },
  {
   "cell_type": "markdown",
   "metadata": {
    "deletable": false,
    "editable": false,
    "nbgrader": {
     "cell_type": "markdown",
     "checksum": "d84933e12f48ce7d5752eb215c75d5c0",
     "grade": false,
     "grade_id": "cell-8b88c9f08163cb07",
     "locked": true,
     "schema_version": 3,
     "solution": false,
     "task": false
    }
   },
   "source": [
    "Sample usage of the bootstrapping algorithm."
   ]
  },
  {
   "cell_type": "code",
   "execution_count": 5,
   "metadata": {},
   "outputs": [
    {
     "data": {
      "text/plain": [
       "array([[ 6,  1,  4,  4,  8, 10,  4,  6,  3,  5],\n",
       "       [ 8,  7,  9,  9,  2,  7,  8,  8,  9,  2],\n",
       "       [ 6, 10,  9, 10,  5,  4,  1,  4,  6,  1],\n",
       "       [ 3,  4,  9,  2,  4,  4,  4,  8,  1,  2],\n",
       "       [10, 10,  1,  5,  8,  4,  3,  8,  3,  1]])"
      ]
     },
     "execution_count": 5,
     "metadata": {},
     "output_type": "execute_result"
    }
   ],
   "source": [
    "D = [1, 2, 3, 4, 5, 6, 7, 8, 9,10]\n",
    "bootstrap(D,5)"
   ]
  },
  {
   "cell_type": "code",
   "execution_count": null,
   "metadata": {
    "deletable": false,
    "editable": false,
    "nbgrader": {
     "cell_type": "code",
     "checksum": "5398eea296e2b15a10e2a3a3be0e2d9f",
     "grade": true,
     "grade_id": "problem_1_test",
     "locked": true,
     "points": 0.5,
     "schema_version": 3,
     "solution": false,
     "task": false
    }
   },
   "outputs": [],
   "source": [
    "# Your points for the Problem 1 will be given in this cell. Dont modify it."
   ]
  },
  {
   "cell_type": "markdown",
   "metadata": {
    "deletable": false,
    "editable": false,
    "nbgrader": {
     "cell_type": "markdown",
     "checksum": "89ece37998890e81b1ad0596813140d5",
     "grade": false,
     "grade_id": "cell-fc1db6630e031046",
     "locked": true,
     "schema_version": 3,
     "solution": false,
     "task": false
    }
   },
   "source": [
    "<a id='Task1.1'></a>\n",
    "<div class=\" alert alert-warning\">\n",
    "    <b>Problem 2: PCA</b>\n",
    "\n",
    "<p>Implement PCA algorithm as described in Lecture 3. Use data from pca_data.csv. Compute $\\mu$ and $\\Sigma$ as explained in lecture slides. Find eigenvalues and eigenvectors of $\\Sigma$. Pick the first principal component which corresponds to largest eigenvalue. Plot the data and first principal component in same figure. The line depicting the first principal component should start from mean $\\mu$ and end in $\\mu\\pm u_1$, where $u_1$ is the first principal component.</p>\n",
    "    \n",
    "<b>Remember to save results to following variables:</b>\n",
    "  <ul style=\"margin-top:-5px;\">\n",
    "    <li>mu</li>\n",
    "    <li>sigma</li>\n",
    "    <li>lmbda</li>\n",
    "     <li>U</li>\n",
    "    <li>vec1</li>\n",
    "    <li>vec2</li>\n",
    "  </ul>\n",
    "\n",
    "Note: Do not use the np.cov() function to calculate sigma. To receive full marks, calculate sigma as explained in the lecture notes.\n",
    "</div>"
   ]
  },
  {
   "cell_type": "code",
   "execution_count": 6,
   "metadata": {},
   "outputs": [],
   "source": [
    "import numpy as np\n",
    "import pandas as pd\n",
    "import matplotlib.pyplot as plt"
   ]
  },
  {
   "cell_type": "code",
   "execution_count": 43,
   "metadata": {},
   "outputs": [],
   "source": [
    "df = pd.read_csv(\"data/pca_data.csv\").values \n",
    "df = np.array(df)"
   ]
  },
  {
   "cell_type": "code",
   "execution_count": 44,
   "metadata": {
    "deletable": false,
    "nbgrader": {
     "cell_type": "code",
     "checksum": "ddc02bf9f554c5b5d47c89b1bbb8d39f",
     "grade": false,
     "grade_id": "cell-a49152fbe19dc185",
     "locked": false,
     "schema_version": 3,
     "solution": true,
     "task": false
    }
   },
   "outputs": [],
   "source": [
    "# YOUR CODE HERE\n",
    "\n",
    "#raise NotImplementedError()\n",
    "\n",
    "\n",
    "\n",
    "mu = np.mean(df, axis=0)\n",
    "\n",
    "centered_data = df - mu\n",
    "n_samples = centered_data.shape[0]\n",
    "\n",
    "\n",
    "\n",
    "\n",
    "sigma = (1 / (n_samples - 1)) * (centered_data.T @ centered_data)\n",
    "\n",
    "\n",
    "lmbda = np.linalg.eig(sigma)[0]  #Eigenvalues\n",
    "\n",
    "U = np.linalg.eig(sigma)[1] #Eigenvectors\n",
    "\n",
    "\n",
    "principal_component_idx = np.argmax(lmbda)\n",
    "\n",
    "principal_eigenvector = U[:, principal_component_idx]\n",
    "\n",
    "\n",
    "principal_eigenvalue = lmbda[principal_component_idx]\n",
    "\n",
    "\n",
    "\n",
    "vec1 = mu + principal_eigenvector #mu + u\n",
    "vec2 = mu - principal_eigenvector #mu - u\n",
    "\n",
    "\n"
   ]
  },
  {
   "cell_type": "code",
   "execution_count": 45,
   "metadata": {},
   "outputs": [
    {
     "name": "stdout",
     "output_type": "stream",
     "text": [
      "[-0.6021102  -0.79841299]\n"
     ]
    }
   ],
   "source": [
    "print(principal_eigenvector) #for checking problem 2 & 3 FPC"
   ]
  },
  {
   "cell_type": "code",
   "execution_count": 46,
   "metadata": {},
   "outputs": [
    {
     "name": "stdout",
     "output_type": "stream",
     "text": [
      "0.31146216370077856\n"
     ]
    }
   ],
   "source": [
    "print(principal_eigenvalue)"
   ]
  },
  {
   "cell_type": "code",
   "execution_count": 47,
   "metadata": {},
   "outputs": [
    {
     "data": {
      "image/png": "[encoded data removed]",
      "text/plain": [
       "<Figure size 1000x600 with 1 Axes>"
      ]
     },
     "metadata": {},
     "output_type": "display_data"
    }
   ],
   "source": [
    "\n",
    "plt.figure(figsize=(10, 6))\n",
    "plt.scatter(df[:, 0], df[:, 1], alpha=0.5, label=\"df\")\n",
    "\n",
    "# this is the FPC +\n",
    "\n",
    "plt.plot(\n",
    "    [mu[0], vec1[0]], [mu[1], vec1[1]],\n",
    "    color=\"red\", label=\"FPC(+)\", linewidth=2\n",
    ")\n",
    "# this is the FPC -\n",
    "\n",
    "plt.plot(\n",
    "    [mu[0], vec2[0]], [mu[1], vec2[1]],\n",
    "    color=\"blue\", label=\"FPC(-)\", linewidth=2\n",
    ")\n",
    "\n",
    "# this is for mean\n",
    "plt.scatter(mu[0], mu[1], color=\"black\", label=\"Mean (μ)\", zorder=5)\n",
    "\n",
    "\n",
    "plt.legend()\n",
    "plt.show()\n",
    "\n"
   ]
  },
  {
   "cell_type": "code",
   "execution_count": 48,
   "metadata": {},
   "outputs": [],
   "source": [
    "# Save results\n",
    "mu = mu.tolist()       # Mean\n",
    "\n",
    "sigma = sigma.tolist() \n",
    "\n",
    "lmbda = lmbda.tolist() # Eigenvalues\n",
    "U = U.tolist()         # Eigenvectors\n",
    "\n",
    "\n",
    "vec1 = vec1.tolist()   # μ + u\n",
    "vec2 = vec2.tolist()   # μ - u"
   ]
  },
  {
   "cell_type": "code",
   "execution_count": null,
   "metadata": {
    "deletable": false,
    "editable": false,
    "nbgrader": {
     "cell_type": "code",
     "checksum": "199a5a97c486991215ff6576414a66ea",
     "grade": true,
     "grade_id": "cell-5b73a128275a0045",
     "locked": true,
     "points": 0.5,
     "schema_version": 3,
     "solution": false,
     "task": false
    }
   },
   "outputs": [],
   "source": [
    "# Your points for the mean calculation will be given in this cell. Do not modify it."
   ]
  },
  {
   "cell_type": "code",
   "execution_count": null,
   "metadata": {
    "deletable": false,
    "editable": false,
    "nbgrader": {
     "cell_type": "code",
     "checksum": "edc88c5a19f0186cc2e276eaf1f04776",
     "grade": true,
     "grade_id": "cell-cb6cecc2813c98ea",
     "locked": true,
     "points": 0.5,
     "schema_version": 3,
     "solution": false,
     "task": false
    }
   },
   "outputs": [],
   "source": [
    "# Your points for the sigma calculation will be given in this cell. Do not modify it."
   ]
  },
  {
   "cell_type": "code",
   "execution_count": null,
   "metadata": {
    "deletable": false,
    "editable": false,
    "nbgrader": {
     "cell_type": "code",
     "checksum": "295b38600524e431d670d58679613c46",
     "grade": true,
     "grade_id": "cell-934df95be3d6b691",
     "locked": true,
     "points": 0.5,
     "schema_version": 3,
     "solution": false,
     "task": false
    }
   },
   "outputs": [],
   "source": [
    "# Your points for the eigen vectors calculation will be given in this cell. Do not modify it."
   ]
  },
  {
   "cell_type": "code",
   "execution_count": null,
   "metadata": {
    "deletable": false,
    "editable": false,
    "nbgrader": {
     "cell_type": "code",
     "checksum": "5d7a82c4bd19f94350b142365281fe54",
     "grade": true,
     "grade_id": "cell-691becb386723f27",
     "locked": true,
     "points": 0.5,
     "schema_version": 3,
     "solution": false,
     "task": false
    }
   },
   "outputs": [],
   "source": [
    "# Your points for the eigen values calculation will be given in this cell. Do not modify it."
   ]
  },
  {
   "cell_type": "code",
   "execution_count": null,
   "metadata": {
    "deletable": false,
    "editable": false,
    "nbgrader": {
     "cell_type": "code",
     "checksum": "e088b8c41583468b36c7cc0053bd07d1",
     "grade": true,
     "grade_id": "cell-f885401156abf42e",
     "locked": true,
     "points": 1,
     "schema_version": 3,
     "solution": false,
     "task": false
    }
   },
   "outputs": [],
   "source": [
    "# Your points for the vec1 and vec2 calculation will be given in this cell. Do not modify it"
   ]
  },
  {
   "cell_type": "markdown",
   "metadata": {
    "deletable": false,
    "editable": false,
    "nbgrader": {
     "cell_type": "markdown",
     "checksum": "cc43263c9f8f6dc12ce1e577ffac7587",
     "grade": false,
     "grade_id": "cell-3beb549f5e28a283",
     "locked": true,
     "schema_version": 3,
     "solution": false,
     "task": false
    }
   },
   "source": [
    "<a id='Task1.1'></a>\n",
    "<div class=\" alert alert-warning\">\n",
    "    <b>Problem 3: PCA using sklearn</b>\n",
    "\n",
    "<p>Consult <a href='https://scikit-learn.org/stable/modules/generated/sklearn.decomposition.PCA.html'>documentation of sklearn</a> on how to perform PCA using sklearn. Perform PCA using sklearn on same dataset as in Problem 2. Pick the model and train it (fit it) using same data as above.  Save first principal component to components variable (hint: its the components_ attribute of the pca object).\n",
    "\n",
    "Do you get the same results? If not, what might be a reason for it?</p>\n",
    "\n",
    "\n",
    "    \n",
    "</div>"
   ]
  },
  {
   "cell_type": "code",
   "execution_count": 29,
   "metadata": {},
   "outputs": [],
   "source": [
    "from sklearn.decomposition import PCA"
   ]
  },
  {
   "cell_type": "code",
   "execution_count": 30,
   "metadata": {
    "deletable": false,
    "nbgrader": {
     "cell_type": "code",
     "checksum": "02a5e555940c3d3a91e9783c26cd3042",
     "grade": false,
     "grade_id": "cell-3677acc4f886c323",
     "locked": false,
     "schema_version": 3,
     "solution": true,
     "task": false
    }
   },
   "outputs": [],
   "source": [
    "\n",
    "pca = PCA(n_components=1)\n",
    "# YOUR CODE HERE\n",
    "#raise NotImplementedError()\n",
    "\n",
    "pca.fit(df)\n",
    "\n",
    "components = pca.components_ #for the fisrt component\n",
    "\n",
    "components = components[0]\n",
    "\n"
   ]
  },
  {
   "cell_type": "code",
   "execution_count": 32,
   "metadata": {},
   "outputs": [
    {
     "name": "stdout",
     "output_type": "stream",
     "text": [
      "[-0.6021102  -0.79841299]\n"
     ]
    }
   ],
   "source": [
    "print(components)"
   ]
  },
  {
   "cell_type": "code",
   "execution_count": null,
   "metadata": {
    "deletable": false,
    "editable": false,
    "nbgrader": {
     "cell_type": "code",
     "checksum": "1a7f9a7b8da43cce3edba7a459218329",
     "grade": true,
     "grade_id": "cell-1853e57148b5462f",
     "locked": true,
     "points": 1,
     "schema_version": 3,
     "solution": false,
     "task": false
    }
   },
   "outputs": [],
   "source": [
    "# Your points for the Problem 3 will be given in this cell. Dont modify it."
   ]
  },
  {
   "cell_type": "markdown",
   "metadata": {},
   "source": [
    "#### Compare results from Problem 2, and 3. Do you get the same results? If not, what might be a reason for it?\n"
   ]
  },
  {
   "cell_type": "markdown",
   "metadata": {},
   "source": [
    "I get the same result, [-0.6021102  -0.79841299]. I think the results are identical because both implementations involve centering the data by subtracting the mean(μ), which sklearn does internally. The computations align perfectly in this case. And the dataset provided is very small and well-structured, which minimizes numerical discrepancies."
   ]
  },
  {
   "cell_type": "markdown",
   "metadata": {
    "deletable": false,
    "editable": false,
    "nbgrader": {
     "cell_type": "markdown",
     "checksum": "66a0fce15b4e125dd32ef361864b8d14",
     "grade": false,
     "grade_id": "cell-c8545261516a0580",
     "locked": true,
     "schema_version": 3,
     "solution": false,
     "task": false
    }
   },
   "source": [
    "<a id='Task1.1'></a>\n",
    "<div class=\" alert alert-warning\">\n",
    "    <b>Problem 4: LDA</b>\n",
    "\n",
    "<p>Implement LDA algorithm as described in Lecture 3 (Textbook pages 70-73). Use data from lda_data.csv. The data consists of x coordinate, y coordinate and class label (0 or 1). Compute the quantities appearing in lecture slides. The LDA projection operator $U$ consists of single column which is the eigenvector of $H$ corresponding to the largest eigenvalue. Plot the data points with different colors for each class and the LDA subspace (line) in same figure. The line depicting the LDA subspace should start from mean $\\mu_G$ and end in $\\mu_G\\pm u$, where $u$ is the direction of LDA subspace.</p>\n",
    "\n",
    "<b>Remember to save results to following variables:</b>\n",
    "  <ul style=\"margin-top:-5px;\">\n",
    "    <li>mu0, mu1, muG</li>\n",
    "    <li>sigma0, sigma1</li>\n",
    "     <li>sigmaW, sigmaB</li>\n",
    "    <li>H, lmbda, U, u</li>\n",
    "    <li>vec1, vec2</li>\n",
    "  </ul>\n",
    "\n",
    "Note: Do not use the np.cov() function to calculate sigma. To receive full marks, calculate sigma as explained in the lecture notes\n",
    "</div>"
   ]
  },
  {
   "cell_type": "code",
   "execution_count": 49,
   "metadata": {},
   "outputs": [],
   "source": [
    "data = pd.read_csv(\"data/lda_data.csv\", header=None)\n",
    "data.columns = ['x', 'y', 'class']\n"
   ]
  },
  {
   "cell_type": "code",
   "execution_count": 50,
   "metadata": {},
   "outputs": [],
   "source": [
    "class_0 = data[data['class'] == 0]\n",
    "class_1 = data[data['class'] == 1]\n",
    "\n",
    "\n",
    "\n",
    "mu0 = class_0[['x', 'y']].mean().values # mean x, y of the class 0\n",
    "mu1 = class_1[['x', 'y']].mean().values # mean x, y of the class 1\n",
    "muG = data[['x', 'y']].mean().values # Global mean x, y\n"
   ]
  },
  {
   "cell_type": "code",
   "execution_count": 51,
   "metadata": {},
   "outputs": [],
   "source": [
    "sigma0 = np.dot((class_0[['x', 'y']].values - mu0).T, (class_0[['x', 'y']].values - mu0)) / len(class_0) # Covariance matrix for class 0\n",
    "sigma1 = np.dot((class_1[['x', 'y']].values - mu1).T, (class_1[['x', 'y']].values - mu1)) / len(class_1) # Covariance matrix for class 1\n",
    "sigmaW = sigma0 + sigma1 # Covariance matrix within class 0 and class 1\n",
    "\n",
    "diff_mu = (mu0 - mu1).reshape(-1, 1)\n",
    "\n",
    "\n",
    "sigmaB = sigmaB = len(class_0) * np.dot(diff_mu, diff_mu.T) + len(class_1) * np.dot(-diff_mu, -diff_mu.T) # Covariance matrix between class 0 and class1\n"
   ]
  },
  {
   "cell_type": "code",
   "execution_count": 52,
   "metadata": {},
   "outputs": [],
   "source": [
    "H = np.linalg.inv(sigmaW).dot(sigmaB) # Discriminant Matrix -> inv(sigmaW)*sigmaB\n",
    "\n",
    "eig_results = np.linalg.eig(H)\n",
    "\n",
    "lmbda = eig_results[0] #Eigenvalues\n",
    "U = eig_results[1] #Eigenvectors\n",
    "\n",
    "\n",
    "u = U[:, 0]"
   ]
  },
  {
   "cell_type": "code",
   "execution_count": 53,
   "metadata": {},
   "outputs": [],
   "source": [
    "vec1 = muG + u\n",
    "vec2 = muG - u"
   ]
  },
  {
   "cell_type": "code",
   "execution_count": null,
   "metadata": {
    "deletable": false,
    "nbgrader": {
     "cell_type": "code",
     "checksum": "875a0fc892e58095b31e075203cf39c9",
     "grade": false,
     "grade_id": "cell-b9ab8a437fdba084",
     "locked": false,
     "schema_version": 3,
     "solution": true,
     "task": false
    }
   },
   "outputs": [],
   "source": [
    "# See Lecture 3 notes \n",
    "\n",
    "# YOUR CODE HERE\n",
    "#raise NotImplementedError()\n",
    "\n",
    "\n",
    "vec1 = \"Your answer here\" #muG + u\n",
    "vec2 = \"Your answer here\" #muG - u"
   ]
  },
  {
   "cell_type": "code",
   "execution_count": 55,
   "metadata": {},
   "outputs": [
    {
     "data": {
      "image/png": "[encoded data removed]",
      "text/plain": [
       "<Figure size 640x480 with 1 Axes>"
      ]
     },
     "metadata": {},
     "output_type": "display_data"
    }
   ],
   "source": [
    "plt.scatter(class_0['x'], class_0['y'], color='blue', label='0s')\n",
    "plt.scatter(class_1['x'], class_1['y'], color='red', label='1s')\n",
    "\n",
    "# Plot the LDA subspace\n",
    "plt.plot([vec1[0], vec2[0]], [vec1[1], vec2[1]], color='green', label='LDA Subspace', linewidth=2)\n",
    "\n",
    "plt.legend()\n",
    "\n",
    "plt.show()"
   ]
  },
  {
   "cell_type": "code",
   "execution_count": null,
   "metadata": {
    "deletable": false,
    "editable": false,
    "nbgrader": {
     "cell_type": "code",
     "checksum": "b5b010c46969768571ff5e81092f4f4e",
     "grade": true,
     "grade_id": "cell-4398adfd940f7844",
     "locked": true,
     "points": 0.5,
     "schema_version": 3,
     "solution": false,
     "task": false
    }
   },
   "outputs": [],
   "source": [
    "# Your points for the mean calculations will be given in this cell. Dont modify it."
   ]
  },
  {
   "cell_type": "code",
   "execution_count": null,
   "metadata": {
    "deletable": false,
    "editable": false,
    "nbgrader": {
     "cell_type": "code",
     "checksum": "4406aa1b5392e07b975e7ada1f18c191",
     "grade": true,
     "grade_id": "cell-7d086a9dd61495b2",
     "locked": true,
     "points": 0.5,
     "schema_version": 3,
     "solution": false,
     "task": false
    }
   },
   "outputs": [],
   "source": [
    "# Your points for the sigma calculations will be given in this cell. Dont modify it."
   ]
  },
  {
   "cell_type": "code",
   "execution_count": null,
   "metadata": {
    "deletable": false,
    "editable": false,
    "nbgrader": {
     "cell_type": "code",
     "checksum": "62a797a6f25f0ae15970dde2552a9037",
     "grade": true,
     "grade_id": "cell-afb5c89e92e2baa7",
     "locked": true,
     "points": 0.5,
     "schema_version": 3,
     "solution": false,
     "task": false
    }
   },
   "outputs": [],
   "source": [
    "# Your points for the H matrix calculation will be given in this cell. Dont modify it."
   ]
  },
  {
   "cell_type": "code",
   "execution_count": null,
   "metadata": {
    "deletable": false,
    "editable": false,
    "nbgrader": {
     "cell_type": "code",
     "checksum": "f1166692250d75c715c47930866e3569",
     "grade": true,
     "grade_id": "cell-3e021d1aad12f587",
     "locked": true,
     "points": 0.5,
     "schema_version": 3,
     "solution": false,
     "task": false
    }
   },
   "outputs": [],
   "source": [
    "# Your points for the eigen values calculation will be given in this cell. Dont modify it."
   ]
  },
  {
   "cell_type": "code",
   "execution_count": null,
   "metadata": {
    "deletable": false,
    "editable": false,
    "nbgrader": {
     "cell_type": "code",
     "checksum": "7afdb4c6edb2f6a0667bd7ee49e7ddc6",
     "grade": true,
     "grade_id": "cell-ddd826838f4d701a",
     "locked": true,
     "points": 0.5,
     "schema_version": 3,
     "solution": false,
     "task": false
    }
   },
   "outputs": [],
   "source": [
    "# Your points for the eigen vectors calculation will be given in this cell. Dont modify it."
   ]
  },
  {
   "cell_type": "code",
   "execution_count": null,
   "metadata": {
    "deletable": false,
    "editable": false,
    "nbgrader": {
     "cell_type": "code",
     "checksum": "3a54ae3db2b14f5c07026f3d3be591be",
     "grade": true,
     "grade_id": "cell-05d94dc9390746fd",
     "locked": true,
     "points": 0.5,
     "schema_version": 3,
     "solution": false,
     "task": false
    }
   },
   "outputs": [],
   "source": [
    "# Your points for the vec_1 and vec_2 calculations will be given in this cell. Dont modify it."
   ]
  },
  {
   "cell_type": "markdown",
   "metadata": {
    "deletable": false,
    "editable": false,
    "nbgrader": {
     "cell_type": "markdown",
     "checksum": "81565dd6a4e1afaee2ffec0406986557",
     "grade": false,
     "grade_id": "cell-543c124d2c6ba006",
     "locked": true,
     "schema_version": 3,
     "solution": false,
     "task": false
    }
   },
   "source": [
    "<a id='Task1.1'></a>\n",
    "<div class=\" alert alert-warning\">\n",
    "    <b>Problem 5: Boosting</b>\n",
    "\n",
    "<p>Use the tab-separated(!) file wifi_localization.txt. The data allows to determine indoor room location from wifi signal strenghts. Last column of the file contains class labels of rooms while the first seven columns contains signal strengths of mobile phones. Split the dataset into training (70%), validation (15%) and testing sets (15%). Train GradientBoostingClassifier from sklearn using n_estimators between 1-40. Consult documentation of sklearn (or Google) on how to do this. Compute the validation score on validation set using score(). Plot scores against n. Pick the value for n giving highest score and train the model using training data. If there are multiple n with same (highest) score, choose the smallest n. For that n, plot confusion matrix for testing set.</p>\n",
    "\n",
    "<p>Use random_state = 0 in all functions that have random_state as a parameter (train_test_split and GradientBoostingClassifier). Do not change learning rate, or give learning_rate = 0.1 as a parameter.</p>\n",
    "    \n",
    "<b>Remember to save results to following variables:</b>\n",
    "  <ul style=\"margin-top:-5px;\">\n",
    "    <li>scores</li>\n",
    "    <li>best_score</li>\n",
    "     <li>ypred</li>\n",
    "    <li>matrix</li>\n",
    "  </ul>\n",
    "</div>"
   ]
  },
  {
   "cell_type": "code",
   "execution_count": 56,
   "metadata": {},
   "outputs": [],
   "source": [
    "from sklearn.model_selection import train_test_split\n",
    "from sklearn.ensemble import GradientBoostingClassifier\n",
    "from sklearn.metrics import confusion_matrix"
   ]
  },
  {
   "cell_type": "code",
   "execution_count": 58,
   "metadata": {},
   "outputs": [],
   "source": [
    "wifi = pd.read_csv(\"data/wifi_localization.txt\", sep=\"\\t\", header=None)"
   ]
  },
  {
   "cell_type": "code",
   "execution_count": 59,
   "metadata": {},
   "outputs": [],
   "source": [
    "wifi.columns = [\"Signal_1\", \"Signal_2\", \"Signal_3\", \"Signal_4\", \"Signal_5\", \"Signal_6\", \"Signal_7\", \"Class\"]"
   ]
  },
  {
   "cell_type": "code",
   "execution_count": 60,
   "metadata": {},
   "outputs": [],
   "source": [
    "X = wifi.iloc[:, :-1]  \n",
    "y = wifi.iloc[:, -1] "
   ]
  },
  {
   "cell_type": "code",
   "execution_count": 61,
   "metadata": {
    "deletable": false,
    "nbgrader": {
     "cell_type": "code",
     "checksum": "6e13ae8ad3b32bfcb965bc43d7d21e7d",
     "grade": false,
     "grade_id": "cell-e18cb50d0f4272d9",
     "locked": false,
     "schema_version": 3,
     "solution": true,
     "task": false
    }
   },
   "outputs": [],
   "source": [
    "#Use random_state = 0 in all functions with that parameter\n",
    "\n",
    "# YOUR CODE HERE\n",
    "#raise NotImplementedError()\n",
    "\n",
    "# Array of size 39 (range 1-40) with score values. \n",
    "# For index i score is calculated with n_estimators=i\n",
    "\n",
    "\n",
    "X_train, X_temp, y_train, y_temp = train_test_split(X, y, test_size=0.3, random_state=0)\n",
    "X_val, X_test, y_val, y_test = train_test_split(X_temp, y_temp, test_size=0.5, random_state=0)\n",
    "\n",
    "\n",
    "\n",
    "scores = []\n",
    "\n",
    "for n in range(1, 41):\n",
    "    clf = GradientBoostingClassifier(n_estimators=n, learning_rate=0.1, random_state=0)\n",
    "    clf.fit(X_train, y_train)\n",
    "    scores.append(clf.score(X_val, y_val)) \n",
    "\n",
    "# The index (n_estimators) of scores with the largest value (If several, choose smallest n)\n",
    "best_score = scores.index(max(scores)) + 1\n",
    "\n",
    "\n",
    "best_clf = GradientBoostingClassifier(n_estimators=best_score, learning_rate=0.1, random_state=0)\n",
    "best_clf.fit(X_train, y_train)\n",
    "\n",
    "\n",
    "\n",
    "# Create new gradient boosting classifier with n_estimators = best_score\n",
    "ypred = best_clf.predict(X_test) # Predict class for test set \n",
    "matrix = confusion_matrix(y_test, ypred) # Confusion matrix for testing set"
   ]
  },
  {
   "cell_type": "code",
   "execution_count": 63,
   "metadata": {},
   "outputs": [],
   "source": [
    "from sklearn.metrics import confusion_matrix, ConfusionMatrixDisplay"
   ]
  },
  {
   "cell_type": "code",
   "execution_count": 64,
   "metadata": {},
   "outputs": [
    {
     "data": {
      "image/png": "[encoded data removed]",
      "text/plain": [
       "<Figure size 640x480 with 2 Axes>"
      ]
     },
     "metadata": {},
     "output_type": "display_data"
    }
   ],
   "source": [
    "disp = ConfusionMatrixDisplay(confusion_matrix=matrix, display_labels=best_clf.classes_)\n",
    "disp.plot(cmap=plt.cm.Blues)\n",
    "plt.title(\"Confusion Matrix\")\n",
    "plt.show()"
   ]
  },
  {
   "cell_type": "code",
   "execution_count": 66,
   "metadata": {},
   "outputs": [
    {
     "data": {
      "image/png": "[encoded data removed]",
      "text/plain": [
       "<Figure size 640x480 with 1 Axes>"
      ]
     },
     "metadata": {},
     "output_type": "display_data"
    }
   ],
   "source": [
    "plt.plot(range(1, 41), scores, marker='o', label=\"Validation Score\")\n",
    "\n",
    "plt.axvline(x=best_score, color='red', linestyle='--', label=f'Best n={best_score}')\n",
    "\n",
    "\n",
    "\n",
    "plt.legend()\n",
    "\n",
    "plt.show()\n"
   ]
  },
  {
   "cell_type": "code",
   "execution_count": null,
   "metadata": {
    "deletable": false,
    "editable": false,
    "nbgrader": {
     "cell_type": "code",
     "checksum": "ad55df53b1fe2c98d864e914e87f48e4",
     "grade": true,
     "grade_id": "cell-3efe690f6c8b8f1b",
     "locked": true,
     "points": 0.75,
     "schema_version": 3,
     "solution": false,
     "task": false
    }
   },
   "outputs": [],
   "source": [
    "# Your points for the Problem 5 confusion matrix will be given in this cell. Dont modify it."
   ]
  },
  {
   "cell_type": "code",
   "execution_count": null,
   "metadata": {
    "deletable": false,
    "editable": false,
    "nbgrader": {
     "cell_type": "code",
     "checksum": "9bf66fc68affdeba46100b37d0f65ced",
     "grade": true,
     "grade_id": "cell-49d5e5e29751723d",
     "locked": true,
     "points": 0.75,
     "schema_version": 3,
     "solution": false,
     "task": false
    }
   },
   "outputs": [],
   "source": [
    "# Your points for the Problem 5 predictions will be given in this cell. Dont modify it."
   ]
  },
  {
   "cell_type": "code",
   "execution_count": null,
   "metadata": {
    "deletable": false,
    "editable": false,
    "nbgrader": {
     "cell_type": "code",
     "checksum": "d79f33d2e51a30d1aa3b58a0fb80fabe",
     "grade": true,
     "grade_id": "cell-50a54e1e5c02907b",
     "locked": true,
     "points": 0.75,
     "schema_version": 3,
     "solution": false,
     "task": false
    }
   },
   "outputs": [],
   "source": [
    "# Your points for the Problem 5 scores will be given in this cell. Dont modify it."
   ]
  },
  {
   "cell_type": "code",
   "execution_count": null,
   "metadata": {
    "deletable": false,
    "editable": false,
    "nbgrader": {
     "cell_type": "code",
     "checksum": "252987ad805dd37452d8e14bf4b70bc7",
     "grade": true,
     "grade_id": "cell-4625f19886acb505",
     "locked": true,
     "points": 0.25,
     "schema_version": 3,
     "solution": false,
     "task": false
    }
   },
   "outputs": [],
   "source": [
    "# Your points for the Problem 5 best score will be given in this cell. Dont modify it."
   ]
  },
  {
   "cell_type": "code",
   "execution_count": null,
   "metadata": {},
   "outputs": [],
   "source": []
  },
  {
   "cell_type": "markdown",
   "metadata": {},
   "source": [
    "##### Have you used any generative AI tools to assist with your work on this exercise?"
   ]
  },
  {
   "cell_type": "markdown",
   "metadata": {
    "deletable": false,
    "nbgrader": {
     "cell_type": "markdown",
     "checksum": "0b3aaa0601b3a20cc6123350291c0944",
     "grade": true,
     "grade_id": "cell-f0f0d30f5102406d",
     "locked": false,
     "points": 0,
     "schema_version": 3,
     "solution": true,
     "task": false
    }
   },
   "source": [
    "YES"
   ]
  },
  {
   "cell_type": "markdown",
   "metadata": {},
   "source": [
    "##### If \"Yes\", please provide the names of those tools along with a brief explanation of how you used them."
   ]
  },
  {
   "cell_type": "markdown",
   "metadata": {
    "deletable": false,
    "nbgrader": {
     "cell_type": "markdown",
     "checksum": "ad6e38d2afdca1b1044ff3aa19654961",
     "grade": true,
     "grade_id": "cell-0c6579a9994dedc6",
     "locked": false,
     "points": 0,
     "schema_version": 3,
     "solution": true,
     "task": false
    }
   },
   "source": [
    "i forgot the part where i need to organize datasets like, sep=\"\\t\", header=None. so i ask it in chatgpt and got the solution."
   ]
  },
  {
   "cell_type": "code",
   "execution_count": null,
   "metadata": {},
   "outputs": [],
   "source": []
  }
 ],
 "metadata": {
  "kernelspec": {
   "display_name": "Python 3 (ipykernel)",
   "language": "python",
   "name": "python3"
  },
  "language_info": {
   "codemirror_mode": {
    "name": "ipython",
    "version": 3
   },
   "file_extension": ".py",
   "mimetype": "text/x-python",
   "name": "python",
   "nbconvert_exporter": "python",
   "pygments_lexer": "ipython3",
   "version": "3.12.2"
  },
  "nbdime-conflicts": {
   "local_diff": [
    {
     "diff": [
      {
       "diff": [
        {
         "diff": [
          {
           "key": 4,
           "op": "addrange",
           "valuelist": "3"
          },
          {
           "key": 4,
           "length": 1,
           "op": "removerange"
          }
         ],
         "key": 0,
         "op": "patch"
        }
       ],
       "key": "version",
       "op": "patch"
      }
     ],
     "key": "language_info",
     "op": "patch"
    }
   ],
   "remote_diff": [
    {
     "diff": [
      {
       "diff": [
        {
         "diff": [
          {
           "key": 4,
           "op": "addrange",
           "valuelist": "4"
          },
          {
           "key": 4,
           "length": 1,
           "op": "removerange"
          }
         ],
         "key": 0,
         "op": "patch"
        }
       ],
       "key": "version",
       "op": "patch"
      }
     ],
     "key": "language_info",
     "op": "patch"
    }
   ]
  },
  "toc": {
   "base_numbering": 1,
   "nav_menu": {},
   "number_sections": false,
   "sideBar": true,
   "skip_h1_title": false,
   "title_cell": "Table of Contents",
   "title_sidebar": "Contents",
   "toc_cell": false,
   "toc_position": {
    "height": "507.275px",
    "left": "23.975px",
    "top": "145.5px",
    "width": "318px"
   },
   "toc_section_display": true,
   "toc_window_display": true
  },
  "varInspector": {
   "cols": {
    "lenName": 16,
    "lenType": 16,
    "lenVar": 40
   },
   "kernels_config": {
    "python": {
     "delete_cmd_postfix": "",
     "delete_cmd_prefix": "del ",
     "library": "var_list.py",
     "varRefreshCmd": "print(var_dic_list())"
    },
    "r": {
     "delete_cmd_postfix": ") ",
     "delete_cmd_prefix": "rm(",
     "library": "var_list.r",
     "varRefreshCmd": "cat(var_dic_list()) "
    }
   },
   "oldHeight": 194.85,
   "position": {
    "height": "216.85px",
    "left": "1417px",
    "right": "18px",
    "top": "126px",
    "width": "485px"
   },
   "types_to_exclude": [
    "module",
    "function",
    "builtin_function_or_method",
    "instance",
    "_Feature"
   ],
   "varInspector_section_display": "block",
   "window_display": true
  }
 },
 "nbformat": 4,
 "nbformat_minor": 4
}
